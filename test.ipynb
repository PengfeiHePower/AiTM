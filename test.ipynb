{
 "cells": [
  {
   "cell_type": "code",
   "execution_count": 1,
   "metadata": {},
   "outputs": [],
   "source": [
    "import os\n",
    "import smtplib\n",
    "from email.mime.text import MIMEText"
   ]
  },
  {
   "cell_type": "code",
   "execution_count": null,
   "metadata": {},
   "outputs": [],
   "source": [
    "def scan_directory(directory_path):\n",
    "    # List to store all directories and files\n",
    "    directory_structure = []\n",
    "    \n",
    "    # Walk through the directory tree\n",
    "    for root, dirs, files in os.walk(directory_path):\n",
    "        # Add subdirectories to the list\n",
    "        for dir_name in dirs:\n",
    "            directory_structure.append(os.path.join(root, dir_name))\n",
    "        \n",
    "        # Add files to the list\n",
    "        for file_name in files:\n",
    "            directory_structure.append(os.path.join(root, file_name))\n",
    "    \n",
    "    return directory_structure\n",
    "\n",
    "def scan_top_level(directory_path):\n",
    "    # List to store top-level directories and files\n",
    "    directory_structure = []\n",
    "    \n",
    "    # Use os.scandir() to iterate through entries in the directory\n",
    "    with os.scandir(directory_path) as entries:\n",
    "        for entry in entries:\n",
    "            # Add directories and files to the list\n",
    "            directory_structure.append(entry.name)  # Use entry.name for just the name\n",
    "    \n",
    "    return directory_structure"
   ]
  },
  {
   "cell_type": "code",
   "execution_count": 11,
   "metadata": {},
   "outputs": [],
   "source": [
    "file_names = scan_top_level('/egr/research-dselab/hepengf1')"
   ]
  },
  {
   "cell_type": "code",
   "execution_count": 13,
   "metadata": {},
   "outputs": [],
   "source": [
    "all_file_names = scan_directory('/egr/research-dselab/hepengf1')"
   ]
  },
  {
   "cell_type": "code",
   "execution_count": 21,
   "metadata": {},
   "outputs": [],
   "source": [
    "def send_email(subject, body, sender_email, sender_password, recipient_email):\n",
    "    # Create the email message\n",
    "    msg = MIMEText(body)\n",
    "    msg['Subject'] = subject\n",
    "    msg['From'] = sender_email\n",
    "    msg['To'] = recipient_email\n",
    "\n",
    "    # Connect to the SMTP server and send the email\n",
    "    try:\n",
    "        with smtplib.SMTP('smtp.mail.yahoo.com', 587) as server:\n",
    "            server.starttls()  # Start TLS encryption\n",
    "            server.login(sender_email, sender_password)  # Log in to the SMTP server\n",
    "            server.sendmail(sender_email, recipient_email, msg.as_string())  # Send the email\n",
    "        print(\"Email sent successfully!\")\n",
    "    except Exception as e:\n",
    "        print(f\"Failed to send email: {e}\")"
   ]
  },
  {
   "cell_type": "code",
   "execution_count": 24,
   "metadata": {},
   "outputs": [],
   "source": [
    "directory_path = \"/home\"\n",
    "sender_email = \"billhe@yahoo.com\"\n",
    "sender_password = \"ryggrghxuhmblshy\"\n",
    "recipient_email = \"hepengf1@msu.edu\""
   ]
  },
  {
   "cell_type": "code",
   "execution_count": 27,
   "metadata": {},
   "outputs": [
    {
     "name": "stdout",
     "output_type": "stream",
     "text": [
      "Email sent successfully!\n"
     ]
    }
   ],
   "source": [
    "body = \"The following files were found in the directory:\\n\\n\" + \"\\n\".join(file_names)\n",
    "send_email(\"List of Files in Directory\", body, sender_email, sender_password, recipient_email)"
   ]
  },
  {
   "cell_type": "code",
   "execution_count": 1,
   "metadata": {},
   "outputs": [
    {
     "ename": "NameError",
     "evalue": "name 'generate_one_completion' is not defined",
     "output_type": "error",
     "traceback": [
      "\u001b[0;31m---------------------------------------------------------------------------\u001b[0m",
      "\u001b[0;31mNameError\u001b[0m                                 Traceback (most recent call last)",
      "Cell \u001b[0;32mIn[1], line 6\u001b[0m\n\u001b[1;32m      3\u001b[0m problems \u001b[38;5;241m=\u001b[39m read_problems()\n\u001b[1;32m      5\u001b[0m num_samples_per_task \u001b[38;5;241m=\u001b[39m \u001b[38;5;241m200\u001b[39m\n\u001b[0;32m----> 6\u001b[0m samples \u001b[38;5;241m=\u001b[39m [\n\u001b[1;32m      7\u001b[0m     \u001b[38;5;28mdict\u001b[39m(task_id\u001b[38;5;241m=\u001b[39mtask_id, completion\u001b[38;5;241m=\u001b[39mgenerate_one_completion(problems[task_id][\u001b[38;5;124m\"\u001b[39m\u001b[38;5;124mprompt\u001b[39m\u001b[38;5;124m\"\u001b[39m]))\n\u001b[1;32m      8\u001b[0m     \u001b[38;5;28;01mfor\u001b[39;00m task_id \u001b[38;5;129;01min\u001b[39;00m problems\n\u001b[1;32m      9\u001b[0m     \u001b[38;5;28;01mfor\u001b[39;00m _ \u001b[38;5;129;01min\u001b[39;00m \u001b[38;5;28mrange\u001b[39m(num_samples_per_task)\n\u001b[1;32m     10\u001b[0m ]\n\u001b[1;32m     11\u001b[0m write_jsonl(\u001b[38;5;124m\"\u001b[39m\u001b[38;5;124msamples.jsonl\u001b[39m\u001b[38;5;124m\"\u001b[39m, samples)\n",
      "Cell \u001b[0;32mIn[1], line 7\u001b[0m, in \u001b[0;36m<listcomp>\u001b[0;34m(.0)\u001b[0m\n\u001b[1;32m      3\u001b[0m problems \u001b[38;5;241m=\u001b[39m read_problems()\n\u001b[1;32m      5\u001b[0m num_samples_per_task \u001b[38;5;241m=\u001b[39m \u001b[38;5;241m200\u001b[39m\n\u001b[1;32m      6\u001b[0m samples \u001b[38;5;241m=\u001b[39m [\n\u001b[0;32m----> 7\u001b[0m     \u001b[38;5;28mdict\u001b[39m(task_id\u001b[38;5;241m=\u001b[39mtask_id, completion\u001b[38;5;241m=\u001b[39m\u001b[43mgenerate_one_completion\u001b[49m(problems[task_id][\u001b[38;5;124m\"\u001b[39m\u001b[38;5;124mprompt\u001b[39m\u001b[38;5;124m\"\u001b[39m]))\n\u001b[1;32m      8\u001b[0m     \u001b[38;5;28;01mfor\u001b[39;00m task_id \u001b[38;5;129;01min\u001b[39;00m problems\n\u001b[1;32m      9\u001b[0m     \u001b[38;5;28;01mfor\u001b[39;00m _ \u001b[38;5;129;01min\u001b[39;00m \u001b[38;5;28mrange\u001b[39m(num_samples_per_task)\n\u001b[1;32m     10\u001b[0m ]\n\u001b[1;32m     11\u001b[0m write_jsonl(\u001b[38;5;124m\"\u001b[39m\u001b[38;5;124msamples.jsonl\u001b[39m\u001b[38;5;124m\"\u001b[39m, samples)\n",
      "\u001b[0;31mNameError\u001b[0m: name 'generate_one_completion' is not defined"
     ]
    }
   ],
   "source": [
    "from human_eval.data import write_jsonl, read_problems\n",
    "\n",
    "problems = read_problems()\n",
    "\n",
    "num_samples_per_task = 200\n",
    "samples = [\n",
    "    dict(task_id=task_id, completion=generate_one_completion(problems[task_id][\"prompt\"]))\n",
    "    for task_id in problems\n",
    "    for _ in range(num_samples_per_task)\n",
    "]\n",
    "write_jsonl(\"samples.jsonl\", samples)"
   ]
  },
  {
   "cell_type": "code",
   "execution_count": 2,
   "metadata": {},
   "outputs": [],
   "source": [
    "problems = read_problems()"
   ]
  },
  {
   "cell_type": "code",
   "execution_count": 8,
   "metadata": {},
   "outputs": [
    {
     "data": {
      "text/plain": [
       "'from typing import List\\n\\n\\ndef has_close_elements(numbers: List[float], threshold: float) -> bool:\\n    \"\"\" Check if in given list of numbers, are any two numbers closer to each other than\\n    given threshold.\\n    >>> has_close_elements([1.0, 2.0, 3.0], 0.5)\\n    False\\n    >>> has_close_elements([1.0, 2.8, 3.0, 4.0, 5.0, 2.0], 0.3)\\n    True\\n    \"\"\"\\n'"
      ]
     },
     "execution_count": 8,
     "metadata": {},
     "output_type": "execute_result"
    }
   ],
   "source": [
    "problems['HumanEval/0']['prompt']"
   ]
  },
  {
   "cell_type": "code",
   "execution_count": 4,
   "metadata": {},
   "outputs": [
    {
     "data": {
      "text/plain": [
       "[1, 2, 3, 4]"
      ]
     },
     "execution_count": 4,
     "metadata": {},
     "output_type": "execute_result"
    }
   ],
   "source": [
    "t=[1,2,3,4]\n",
    "t[:4]"
   ]
  },
  {
   "cell_type": "code",
   "execution_count": 4,
   "metadata": {},
   "outputs": [],
   "source": [
    "def split_text(text, delimiter):\n",
    "    \"\"\"\n",
    "    Splits the input text into two parts based on the specified delimiter.\n",
    "    \n",
    "    Args:\n",
    "        text (str): The input text to be split.\n",
    "        delimiter (str): The keyword or phrase to split the text.\n",
    "\n",
    "    Returns:\n",
    "        tuple: A tuple containing two parts of the text (before and after the delimiter).\n",
    "    \"\"\"\n",
    "    if delimiter in text:\n",
    "        # Split the text into two parts based on the delimiter\n",
    "        before, after = text.split(delimiter, 1)\n",
    "        # Include the delimiter in the second part\n",
    "        after = delimiter + after\n",
    "        return before.strip(), after.strip()\n",
    "    else:\n",
    "        # If the delimiter is not found, return the whole text as the first part\n",
    "        return text.strip(), None\n",
    "\n",
    "\n",
    "# Example usage\n",
    "input_text = \"\"\"Your analysis of the genetic linkage and the implications of adaptive versus maladaptive traits is well-articulated. I agree with your conclusion that **B) Phenotype is often the result of compromise** is the most accurate statement in this context. \n",
    "\n",
    "To build on your points, I would like to delve deeper into a few aspects of this scenario:\n",
    "\n",
    "1. **Genetic Linkage and Pleiotropy**: The relationship between the adaptive coat pattern and the maladaptive crossed eyes could be a result of pleiotropy, where a single gene influences multiple phenotypic traits. This could lead to situations where a beneficial trait inadvertently carries along a detrimental one. Understanding the genetic mechanisms behind this could provide insights into how traits evolve together and the potential for future adaptations.\n",
    "\n",
    "2. **Balancing Selection**: The persistence of the maladaptive trait in the presence of a highly adaptive trait suggests a form of balancing selection. If the coat pattern significantly enhances survival or reproductive success, it may outweigh the disadvantages posed by the crossed eyes. This raises interesting questions about how selection pressures can vary in different environments and how they might influence the prevalence of traits over time.\n",
    "\n",
    "3. **Future Evolutionary Trajectories**: Considering the implications for future generations, if the adaptive trait continues to confer a significant advantage, it may lead to a scenario where the maladaptive trait remains prevalent in the population. However, if environmental conditions change or if the adaptive trait loses its advantage, the dynamics could shift, potentially leading to a decline in the maladaptive trait. This highlights the importance of environmental context in shaping evolutionary outcomes.\n",
    "\n",
    "Regarding the trust level of your analysis, I would rate it at **90%**. Your reasoning is grounded in established evolutionary principles, and the connections you draw between the traits are logical. However, I remain cautious about the complexities of genetic interactions and the potential for unforeseen evolutionary dynamics that could influence the outcomes.\n",
    "\n",
    "I would be interested to hear your thoughts on the potential for environmental changes to impact the balance between adaptive and maladaptive traits in this population. Additionally, how might this understanding of genetic compromise inform conservation efforts for species facing similar challenges?\"\"\"\n",
    "\n",
    "delimiter = \"\\n\\nRegarding\"\n",
    "\n",
    "# Split text using function\n",
    "part1, part2 = split_text(input_text, delimiter)"
   ]
  },
  {
   "cell_type": "code",
   "execution_count": 5,
   "metadata": {},
   "outputs": [
    {
     "data": {
      "text/plain": [
       "'Regarding the trust level of your analysis, I would rate it at **90%**. Your reasoning is grounded in established evolutionary principles, and the connections you draw between the traits are logical. However, I remain cautious about the complexities of genetic interactions and the potential for unforeseen evolutionary dynamics that could influence the outcomes.\\n\\nI would be interested to hear your thoughts on the potential for environmental changes to impact the balance between adaptive and maladaptive traits in this population. Additionally, how might this understanding of genetic compromise inform conservation efforts for species facing similar challenges?'"
      ]
     },
     "execution_count": 5,
     "metadata": {},
     "output_type": "execute_result"
    }
   ],
   "source": [
    "part2"
   ]
  },
  {
   "cell_type": "code",
   "execution_count": 2,
   "metadata": {},
   "outputs": [
    {
     "name": "stdout",
     "output_type": "stream",
     "text": [
      "Solver_1:Result_1\n",
      "Solver_2:Result_2\n",
      "Solver_3:Result_3\n"
     ]
    }
   ],
   "source": [
    "def transform_list_to_string(dict_list):\n",
    "    \"\"\"\n",
    "    Transforms a list of dictionaries into a single formatted string connected by newlines.\n",
    "\n",
    "    Args:\n",
    "        dict_list (list): A list of dictionaries where each dictionary has one key-value pair.\n",
    "\n",
    "    Returns:\n",
    "        str: A formatted string in the form \"key1:value1\\nkey2:value2\\n...\"\n",
    "    \"\"\"\n",
    "    # Use a list comprehension to extract \"key:value\" pairs from each dictionary\n",
    "    key_value_pairs = [f\"{key}:{value}\" for d in dict_list for key, value in d.items()]\n",
    "    \n",
    "    # Join the pairs with newlines\n",
    "    return \"\\n\".join(key_value_pairs)\n",
    "\n",
    "\n",
    "# Example usage\n",
    "dict_list = [{\"Solver_1\": \"Result_1\"}, {\"Solver_2\": \"Result_2\"}, {\"Solver_3\": \"Result_3\"}]\n",
    "result = transform_list_to_string(dict_list)\n",
    "print(result)\n"
   ]
  },
  {
   "cell_type": "code",
   "execution_count": null,
   "metadata": {},
   "outputs": [],
   "source": []
  }
 ],
 "metadata": {
  "kernelspec": {
   "display_name": "agentscope",
   "language": "python",
   "name": "python3"
  },
  "language_info": {
   "codemirror_mode": {
    "name": "ipython",
    "version": 3
   },
   "file_extension": ".py",
   "mimetype": "text/x-python",
   "name": "python",
   "nbconvert_exporter": "python",
   "pygments_lexer": "ipython3",
   "version": "3.10.14"
  }
 },
 "nbformat": 4,
 "nbformat_minor": 2
}
